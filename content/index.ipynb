{
 "cells": [
  {
   "cell_type": "markdown",
   "id": "f2805cf8",
   "metadata": {
    "clickable": false,
    "deletable": false,
    "editable": false,
    "tags": [
     "remove-cell"
    ]
   },
   "source": [
    "# Hello, Treefy\n",
    "\n",
    "Treefy가 제공하는 실습환경입니다."
   ]
  },
  {
   "cell_type": "code",
   "execution_count": null,
   "id": "b2019822",
   "metadata": {},
   "outputs": [],
   "source": []
  }
 ],
 "metadata": {
  "celltoolbar": "Edit Metadata",
  "kernelspec": {
   "display_name": "Python 3 (ipykernel)",
   "language": "python",
   "name": "python3"
  },
  "language_info": {
   "codemirror_mode": {
    "name": "ipython",
    "version": 3
   },
   "file_extension": ".py",
   "mimetype": "text/x-python",
   "name": "python",
   "nbconvert_exporter": "python",
   "pygments_lexer": "ipython3",
   "version": "3.10.9"
  }
 },
 "nbformat": 4,
 "nbformat_minor": 5
}
